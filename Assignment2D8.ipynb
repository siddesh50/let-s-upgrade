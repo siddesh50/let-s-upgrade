{
 "cells": [
  {
   "cell_type": "code",
   "execution_count": 35,
   "metadata": {},
   "outputs": [],
   "source": [
    "file=open(\"File1.txt\",\"w\")\n",
    "file.write(\"Hello guys how are you?\")\n",
    "file.close()"
   ]
  },
  {
   "cell_type": "code",
   "execution_count": 36,
   "metadata": {},
   "outputs": [
    {
     "name": "stdout",
     "output_type": "stream",
     "text": [
      "The file is open in read mode so can't perform write operation on this file\n"
     ]
    }
   ],
   "source": [
    "try:\n",
    "    file=open(\"file1.txt\",\"r\")\n",
    "    file.write(\"Hello...!\")\n",
    "    file.close()\n",
    "except:\n",
    "    print(\"The file is open in read mode so can't perform write operation on this file\")"
   ]
  },
  {
   "cell_type": "code",
   "execution_count": null,
   "metadata": {},
   "outputs": [],
   "source": []
  }
 ],
 "metadata": {
  "kernelspec": {
   "display_name": "Python 3",
   "language": "python",
   "name": "python3"
  },
  "language_info": {
   "codemirror_mode": {
    "name": "ipython",
    "version": 3
   },
   "file_extension": ".py",
   "mimetype": "text/x-python",
   "name": "python",
   "nbconvert_exporter": "python",
   "pygments_lexer": "ipython3",
   "version": "3.8.3"
  }
 },
 "nbformat": 4,
 "nbformat_minor": 4
}
